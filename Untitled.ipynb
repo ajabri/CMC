{
 "cells": [
  {
   "cell_type": "code",
   "execution_count": 3,
   "metadata": {},
   "outputs": [
    {
     "data": {
      "text/plain": [
       "<All keys matched successfully>"
      ]
     },
     "execution_count": 3,
     "metadata": {},
     "output_type": "execute_result"
    }
   ],
   "source": [
    "import torch\n",
    "import models.resnet as cmc_resnet\n",
    "\n",
    "r50 = cmc_resnet.InsResNet50()\n",
    "r50.load_state_dict(torch.load('./models/MoCo_softmax_16384_epoch200.pth')['model'])\n"
   ]
  },
  {
   "cell_type": "code",
   "execution_count": 4,
   "metadata": {},
   "outputs": [],
   "source": [
    "import os\n",
    "import sys\n",
    "import time\n",
    "import torch\n",
    "import torch.backends.cudnn as cudnn\n",
    "import argparse\n",
    "\n",
    "from torchvision import transforms, datasets\n",
    "from util import adjust_learning_rate, AverageMeter\n",
    "\n",
    "from models.resnet import InsResNet50\n",
    "from NCE.NCEAverage import MemoryInsDis\n",
    "from NCE.NCEAverage import MemoryMoCo\n",
    "from NCE.NCECriterion import NCECriterion\n",
    "from NCE.NCECriterion import NCESoftmaxLoss\n",
    "\n",
    "from dataset import ImageFolderInstance"
   ]
  },
  {
   "cell_type": "code",
   "execution_count": 5,
   "metadata": {},
   "outputs": [
    {
     "ename": "NameError",
     "evalue": "name 'parse_option' is not defined",
     "output_type": "error",
     "traceback": [
      "\u001b[0;31m---------------------------------------------------------------------------\u001b[0m",
      "\u001b[0;31mNameError\u001b[0m                                 Traceback (most recent call last)",
      "\u001b[0;32m<ipython-input-5-c91a6e0679ec>\u001b[0m in \u001b[0;36m<module>\u001b[0;34m\u001b[0m\n\u001b[0;32m----> 1\u001b[0;31m \u001b[0margs\u001b[0m \u001b[0;34m=\u001b[0m \u001b[0mparse_option\u001b[0m\u001b[0;34m(\u001b[0m\u001b[0;34m)\u001b[0m\u001b[0;34m\u001b[0m\u001b[0;34m\u001b[0m\u001b[0m\n\u001b[0m\u001b[1;32m      2\u001b[0m \u001b[0;34m\u001b[0m\u001b[0m\n\u001b[1;32m      3\u001b[0m \u001b[0;32mif\u001b[0m \u001b[0margs\u001b[0m\u001b[0;34m.\u001b[0m\u001b[0mgpu\u001b[0m \u001b[0;32mis\u001b[0m \u001b[0;32mnot\u001b[0m \u001b[0;32mNone\u001b[0m\u001b[0;34m:\u001b[0m\u001b[0;34m\u001b[0m\u001b[0;34m\u001b[0m\u001b[0m\n\u001b[1;32m      4\u001b[0m     \u001b[0mprint\u001b[0m\u001b[0;34m(\u001b[0m\u001b[0;34m\"Use GPU: {} for training\"\u001b[0m\u001b[0;34m.\u001b[0m\u001b[0mformat\u001b[0m\u001b[0;34m(\u001b[0m\u001b[0margs\u001b[0m\u001b[0;34m.\u001b[0m\u001b[0mgpu\u001b[0m\u001b[0;34m)\u001b[0m\u001b[0;34m)\u001b[0m\u001b[0;34m\u001b[0m\u001b[0;34m\u001b[0m\u001b[0m\n\u001b[1;32m      5\u001b[0m \u001b[0;34m\u001b[0m\u001b[0m\n",
      "\u001b[0;31mNameError\u001b[0m: name 'parse_option' is not defined"
     ]
    }
   ],
   "source": [
    "args = parse_option()\n",
    "\n",
    "if args.gpu is not None:\n",
    "    print(\"Use GPU: {} for training\".format(args.gpu))\n",
    "\n",
    "# set the data loader\n",
    "data_folder = os.path.join(args.data_folder, 'train')\n",
    "\n",
    "image_size = 224\n",
    "mean = [0.485, 0.456, 0.406]\n",
    "std = [0.229, 0.224, 0.225]\n",
    "normalize = transforms.Normalize(mean=mean, std=std)\n",
    "\n",
    "if args.aug == 'NULL':\n",
    "    train_transform = transforms.Compose([\n",
    "        transforms.RandomResizedCrop(image_size, scale=(args.crop, 1.)),\n",
    "        transforms.RandomHorizontalFlip(),\n",
    "        transforms.ToTensor(),\n",
    "        normalize,\n",
    "    ])\n",
    "elif args.aug == 'CJ':\n",
    "    train_transform = transforms.Compose([\n",
    "        transforms.RandomResizedCrop(image_size, scale=(args.crop, 1.)),\n",
    "        transforms.RandomGrayscale(p=0.2),\n",
    "        transforms.ColorJitter(0.4, 0.4, 0.4, 0.4),\n",
    "        transforms.RandomHorizontalFlip(),\n",
    "        transforms.ToTensor(),\n",
    "        normalize,\n",
    "    ])\n",
    "else:\n",
    "    raise NotImplemented('augmentation not supported: {}'.format(args.aug))\n",
    "\n",
    "train_dataset = ImageFolderInstance(data_folder, transform=train_transform, two_crop=args.moco)\n",
    "print(len(train_dataset))\n",
    "train_sampler = None\n",
    "train_loader = torch.utils.data.DataLoader(\n",
    "    train_dataset, batch_size=args.batch_size, shuffle=(train_sampler is None),\n",
    "    num_workers=args.num_workers, pin_memory=True, sampler=train_sampler)\n",
    "\n",
    "# create model and optimizer\n",
    "n_data = len(train_dataset)\n",
    "\n",
    "model = InsResNet50()\n",
    "\n",
    "\n",
    "# set the contrast memory and criterion\n",
    "contrast = MemoryInsDis(128, n_data, args.nce_k, args.nce_t, args.nce_m, args.softmax).cuda(args.gpu)\n",
    "\n",
    "criterion = NCESoftmaxLoss() if args.softmax else NCECriterion(n_data)\n",
    "criterion = criterion.cuda(args.gpu)\n",
    "\n",
    "model = model.cuda()\n",
    "\n",
    "if os.path.isfile(args.resume):\n",
    "    print(\"=> loading checkpoint '{}'\".format(args.resume))\n",
    "    checkpoint = torch.load(args.resume, map_location='cpu')\n",
    "    # checkpoint = torch.load(args.resume)\n",
    "    args.start_epoch = checkpoint['epoch'] + 1\n",
    "    model.load_state_dict(checkpoint['model'])\n",
    "    optimizer.load_state_dict(checkpoint['optimizer'])\n",
    "    contrast.load_state_dict(checkpoint['contrast'])\n",
    "    if args.moco:\n",
    "        model_ema.load_state_dict(checkpoint['model_ema'])\n",
    "\n",
    "    if args.amp and checkpoint['opt'].amp:\n",
    "        print('==> resuming amp state_dict')\n",
    "        amp.load_state_dict(checkpoint['amp'])\n",
    "\n",
    "    print(\"=> loaded successfully '{}' (epoch {})\"\n",
    "          .format(args.resume, checkpoint['epoch']))\n",
    "    del checkpoint\n",
    "    torch.cuda.empty_cache()\n",
    "else:\n",
    "    print(\"=> no checkpoint found at '{}'\".format(args.resume))\n",
    "\n",
    "\n",
    "for idx, (inputs, _, index) in enumerate(train_loader):\n",
    "    data_time.update(time.time() - end)\n",
    "\n",
    "    bsz = inputs.size(0)\n",
    "\n",
    "    inputs = inputs.float()\n",
    "    if opt.gpu is not None:\n",
    "        inputs = inputs.cuda(opt.gpu, non_blocking=True)\n",
    "    else:\n",
    "        inputs = inputs.cuda()\n",
    "    index = index.cuda(opt.gpu, non_blocking=True)\n",
    "\n",
    "    # ===================forward=====================\n",
    "    feat = model(inputs)\n",
    "    out = contrast(feat, index)\n",
    "\n",
    "    loss = criterion(out)\n",
    "    prob = out[:, 0].mean()\n"
   ]
  },
  {
   "cell_type": "code",
   "execution_count": null,
   "metadata": {},
   "outputs": [],
   "source": []
  }
 ],
 "metadata": {
  "kernelspec": {
   "display_name": "Python 3",
   "language": "python",
   "name": "python3"
  },
  "language_info": {
   "codemirror_mode": {
    "name": "ipython",
    "version": 3
   },
   "file_extension": ".py",
   "mimetype": "text/x-python",
   "name": "python",
   "nbconvert_exporter": "python",
   "pygments_lexer": "ipython3",
   "version": "3.7.5"
  }
 },
 "nbformat": 4,
 "nbformat_minor": 4
}
